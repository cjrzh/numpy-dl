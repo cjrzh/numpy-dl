{
 "cells": [
  {
   "cell_type": "markdown",
   "id": "b9488316-b2cc-4428-b087-c6b4859e4074",
   "metadata": {},
   "source": [
    "# CH3 神经网络\n",
    "## 阶跃函数"
   ]
  },
  {
   "cell_type": "code",
   "execution_count": 1,
   "id": "b73fc20a-8a00-499f-8eb4-a5e6eae01e01",
   "metadata": {},
   "outputs": [],
   "source": [
    "import numpy as np"
   ]
  },
  {
   "cell_type": "code",
   "execution_count": 2,
   "id": "5c454b19-db69-452e-ae98-e61e6629b223",
   "metadata": {},
   "outputs": [],
   "source": [
    "def step_function(x):\n",
    "    y=x>0\n",
    "    return y.astype(np.int8)"
   ]
  },
  {
   "cell_type": "code",
   "execution_count": 3,
   "id": "b2161e31-6bd5-46b0-9be5-4cc4edd95218",
   "metadata": {},
   "outputs": [],
   "source": [
    "x=np.array([1,3,-1])"
   ]
  },
  {
   "cell_type": "code",
   "execution_count": 4,
   "id": "43249a83-8844-43ff-a483-c802857c6658",
   "metadata": {},
   "outputs": [
    {
     "data": {
      "text/plain": [
       "array([1, 1, 0], dtype=int8)"
      ]
     },
     "execution_count": 4,
     "metadata": {},
     "output_type": "execute_result"
    }
   ],
   "source": [
    "step_function(x)"
   ]
  },
  {
   "cell_type": "markdown",
   "id": "1f90d823-98a1-4185-8787-825094e9a8db",
   "metadata": {},
   "source": [
    "## 阶跃函数的图形"
   ]
  },
  {
   "cell_type": "code",
   "execution_count": 5,
   "id": "7a8fe5ad-e7ee-4db2-9df2-14ed2874df30",
   "metadata": {},
   "outputs": [],
   "source": [
    "import matplotlib.pylab as plt"
   ]
  },
  {
   "cell_type": "code",
   "execution_count": 6,
   "id": "dd7c9446-5c55-4ce0-84d5-8483e63db172",
   "metadata": {},
   "outputs": [],
   "source": [
    "x=np.arange(-5,5,0.1)"
   ]
  },
  {
   "cell_type": "code",
   "execution_count": 7,
   "id": "d5455ed7-3173-419d-8d07-3e73c4e407ba",
   "metadata": {},
   "outputs": [],
   "source": [
    "y=step_function(x)"
   ]
  },
  {
   "cell_type": "code",
   "execution_count": 8,
   "id": "9b2c2d62-f151-4bcb-bb9b-84b3a0017d61",
   "metadata": {},
   "outputs": [
    {
     "data": {
      "image/png": "[encoded data removed]",
      "text/plain": [
       "<Figure size 432x288 with 1 Axes>"
      ]
     },
     "metadata": {
      "needs_background": "light"
     },
     "output_type": "display_data"
    }
   ],
   "source": [
    "plt.plot(x,y)\n",
    "plt.ylim(-0.1,1.1)\n",
    "plt.show()"
   ]
  },
  {
   "cell_type": "markdown",
   "id": "0ae606c0-2537-4188-9214-947629b08beb",
   "metadata": {},
   "source": [
    "## sigmoid 函数"
   ]
  },
  {
   "cell_type": "code",
   "execution_count": 9,
   "id": "4d105f06-c778-4a13-b19b-0d9ae7c0461c",
   "metadata": {},
   "outputs": [],
   "source": [
    "def sigmoid(x):\n",
    "    return 1/(1+np.exp(-x))"
   ]
  },
  {
   "cell_type": "code",
   "execution_count": 10,
   "id": "db112076-fd7d-4aae-a85f-07469f69f40f",
   "metadata": {},
   "outputs": [
    {
     "data": {
      "text/plain": [
       "[<matplotlib.lines.Line2D at 0x174f6591e20>]"
      ]
     },
     "execution_count": 10,
     "metadata": {},
     "output_type": "execute_result"
    },
    {
     "data": {
      "image/png": "[encoded data removed]",
      "text/plain": [
       "<Figure size 432x288 with 1 Axes>"
      ]
     },
     "metadata": {
      "needs_background": "light"
     },
     "output_type": "display_data"
    }
   ],
   "source": [
    "y=sigmoid(x)\n",
    "plt.plot(x,y)"
   ]
  },
  {
   "cell_type": "code",
   "execution_count": 11,
   "id": "438fa086-ca00-4eea-909b-08c32564dfce",
   "metadata": {},
   "outputs": [],
   "source": [
    "def relu(x):\n",
    "    return np.maximum(0,x)"
   ]
  },
  {
   "cell_type": "code",
   "execution_count": 12,
   "id": "a7be1ec6-15b8-4fed-95ee-ccc279f40680",
   "metadata": {},
   "outputs": [
    {
     "data": {
      "text/plain": [
       "[<matplotlib.lines.Line2D at 0x174f65f38e0>]"
      ]
     },
     "execution_count": 12,
     "metadata": {},
     "output_type": "execute_result"
    },
    {
     "data": {
      "image/png": "[encoded data removed]",
      "text/plain": [
       "<Figure size 432x288 with 1 Axes>"
      ]
     },
     "metadata": {
      "needs_background": "light"
     },
     "output_type": "display_data"
    }
   ],
   "source": [
    "y=relu(x)\n",
    "plt.plot(x,y)"
   ]
  },
  {
   "cell_type": "code",
   "execution_count": 13,
   "id": "96dd505a-43e9-4e5c-a9ab-c4a01b255567",
   "metadata": {},
   "outputs": [
    {
     "data": {
      "text/plain": [
       "(4, 1)"
      ]
     },
     "execution_count": 13,
     "metadata": {},
     "output_type": "execute_result"
    }
   ],
   "source": [
    "np.array([[1,2,3,4]]).T.shape"
   ]
  },
  {
   "cell_type": "code",
   "execution_count": 14,
   "id": "468afe8f-8483-4829-b8ed-62e4b97b0684",
   "metadata": {},
   "outputs": [
    {
     "name": "stdout",
     "output_type": "stream",
     "text": [
      "(2, 3)\n",
      "(2,)\n",
      "(3,)\n"
     ]
    }
   ],
   "source": [
    "X = np.array([1.0, 0.5])\n",
    "W1 = np.array([[0.1, 0.3, 0.5], [0.2, 0.4, 0.6]])\n",
    "B1 = np.array([0.1, 0.2, 0.3])\n",
    "print(W1.shape) # (2, 3)\n",
    "print(X.shape) # (2,)\n",
    "print(B1.shape) # (3,)"
   ]
  },
  {
   "cell_type": "code",
   "execution_count": 15,
   "id": "6493fe16-f3a8-48ab-98fd-777233d554b0",
   "metadata": {},
   "outputs": [],
   "source": [
    "A1=X.dot(W1)+B1\n",
    "Z1=sigmoid(A1)"
   ]
  },
  {
   "cell_type": "code",
   "execution_count": 16,
   "id": "e191ce3b-5842-43f6-9cb6-b5c586c44b78",
   "metadata": {},
   "outputs": [
    {
     "data": {
      "text/plain": [
       "array([0.57444252, 0.66818777, 0.75026011])"
      ]
     },
     "execution_count": 16,
     "metadata": {},
     "output_type": "execute_result"
    }
   ],
   "source": [
    "Z1"
   ]
  },
  {
   "cell_type": "code",
   "execution_count": 17,
   "id": "dddb9079-21db-43cc-ad3e-0583c6af62ee",
   "metadata": {},
   "outputs": [
    {
     "name": "stdout",
     "output_type": "stream",
     "text": [
      "(3,)\n",
      "(3, 2)\n",
      "(2,)\n"
     ]
    }
   ],
   "source": [
    "W2 = np.array([[0.1, 0.4], [0.2, 0.5], [0.3, 0.6]])\n",
    "B2 = np.array([0.1, 0.2])\n",
    "print(Z1.shape) # (3,)\n",
    "print(W2.shape) # (3, 2)\n",
    "print(B2.shape) # (2,)"
   ]
  },
  {
   "cell_type": "code",
   "execution_count": 18,
   "id": "5c340189-c2a4-4f23-8b62-509a91db9602",
   "metadata": {},
   "outputs": [],
   "source": [
    "A2=Z1.dot(W2)+B2\n",
    "Z2=sigmoid(A2)"
   ]
  },
  {
   "cell_type": "code",
   "execution_count": 19,
   "id": "ea1abe1b-9de9-4896-91e1-c4f3ec127601",
   "metadata": {},
   "outputs": [
    {
     "data": {
      "text/plain": [
       "array([0.51615984, 1.21402696])"
      ]
     },
     "execution_count": 19,
     "metadata": {},
     "output_type": "execute_result"
    }
   ],
   "source": [
    "A2"
   ]
  },
  {
   "cell_type": "code",
   "execution_count": 20,
   "id": "2d7d9aa4-4c88-441a-a750-03e0e29bc888",
   "metadata": {},
   "outputs": [],
   "source": [
    "W3 = np.array([[0.1, 0.3], [0.2, 0.4]])\n",
    "B3 = np.array([0.1, 0.2])\n",
    "A3 = np.dot(Z2, W3) + B3"
   ]
  },
  {
   "cell_type": "code",
   "execution_count": 21,
   "id": "308af740-30f3-4626-be0c-506c68be97dd",
   "metadata": {},
   "outputs": [],
   "source": [
    "Y=A3"
   ]
  },
  {
   "cell_type": "code",
   "execution_count": 22,
   "id": "886840a5-b3c6-428b-9849-c272b2c5eabc",
   "metadata": {},
   "outputs": [],
   "source": [
    "a = np.array([0.3, 2.9, 4.0])\n",
    "exp_a=np.exp(a)"
   ]
  },
  {
   "cell_type": "code",
   "execution_count": 23,
   "id": "cc62bf78-b377-4c8c-8fd8-23877a9ea673",
   "metadata": {},
   "outputs": [
    {
     "data": {
      "text/plain": [
       "array([ 1.34985881, 18.17414537, 54.59815003])"
      ]
     },
     "execution_count": 23,
     "metadata": {},
     "output_type": "execute_result"
    }
   ],
   "source": [
    "exp_a"
   ]
  },
  {
   "cell_type": "code",
   "execution_count": 24,
   "id": "360a2288-6bf8-4d0c-87c9-173220846ba7",
   "metadata": {},
   "outputs": [],
   "source": [
    "s=np.sum(exp_a)"
   ]
  },
  {
   "cell_type": "code",
   "execution_count": 28,
   "id": "b5a6654d-d263-400f-aaca-73ac9ca79ae7",
   "metadata": {},
   "outputs": [],
   "source": [
    "res=exp_a/s"
   ]
  },
  {
   "cell_type": "code",
   "execution_count": 29,
   "id": "5525101d-f61a-46f2-b2b9-37bfc16c75eb",
   "metadata": {},
   "outputs": [
    {
     "data": {
      "text/plain": [
       "array([0.01821127, 0.24519181, 0.73659691])"
      ]
     },
     "execution_count": 29,
     "metadata": {},
     "output_type": "execute_result"
    }
   ],
   "source": [
    "res"
   ]
  },
  {
   "cell_type": "code",
   "execution_count": 30,
   "id": "d2a620b0-59c7-4895-8c9a-20022d6545d1",
   "metadata": {},
   "outputs": [
    {
     "data": {
      "text/plain": [
       "1.0"
      ]
     },
     "execution_count": 30,
     "metadata": {},
     "output_type": "execute_result"
    }
   ],
   "source": [
    "np.sum(res)"
   ]
  },
  {
   "cell_type": "code",
   "execution_count": 13,
   "id": "ae00a4ca-282a-4a9c-9153-b6108041c684",
   "metadata": {},
   "outputs": [],
   "source": [
    "def softmax(x):\n",
    "    return np.exp(x)/np.sum(np.exp(x))"
   ]
  },
  {
   "cell_type": "code",
   "execution_count": 14,
   "id": "652536d2-fe9e-46f1-8a8b-93d4b540870a",
   "metadata": {},
   "outputs": [
    {
     "ename": "NameError",
     "evalue": "name 'a' is not defined",
     "output_type": "error",
     "traceback": [
      "\u001b[1;31m---------------------------------------------------------------------------\u001b[0m",
      "\u001b[1;31mNameError\u001b[0m                                 Traceback (most recent call last)",
      "\u001b[1;32m<ipython-input-14-62fba499a704>\u001b[0m in \u001b[0;36m<module>\u001b[1;34m\u001b[0m\n\u001b[1;32m----> 1\u001b[1;33m \u001b[0msoftmax\u001b[0m\u001b[1;33m(\u001b[0m\u001b[0ma\u001b[0m\u001b[1;33m)\u001b[0m\u001b[1;33m\u001b[0m\u001b[1;33m\u001b[0m\u001b[0m\n\u001b[0m",
      "\u001b[1;31mNameError\u001b[0m: name 'a' is not defined"
     ]
    }
   ],
   "source": [
    "softmax(a)"
   ]
  },
  {
   "cell_type": "code",
   "execution_count": 27,
   "id": "a0497b19-9f96-46a1-8f1b-bf91bb2b12da",
   "metadata": {},
   "outputs": [
    {
     "data": {
      "text/plain": [
       "1.0"
      ]
     },
     "execution_count": 27,
     "metadata": {},
     "output_type": "execute_result"
    }
   ],
   "source": [
    "np.sum(softmax(a))"
   ]
  },
  {
   "cell_type": "markdown",
   "id": "6e92284e-cde7-4635-b1ce-c082cd47855a",
   "metadata": {},
   "source": [
    "## MNIST 数据集\n",
    "MNIST和IMDB Review作为两大基准数据集"
   ]
  },
  {
   "cell_type": "markdown",
   "id": "1b80e03f-9954-435b-a07f-d90792c95a39",
   "metadata": {},
   "source": [
    "### 数据下载、可视化"
   ]
  },
  {
   "cell_type": "code",
   "execution_count": 28,
   "id": "741fb3b6-83f1-4541-a43f-b60c5bb11457",
   "metadata": {},
   "outputs": [],
   "source": [
    "import sys,os"
   ]
  },
  {
   "cell_type": "code",
   "execution_count": 29,
   "id": "7367f7c2-bad1-4aee-901a-0f0ca9f2a098",
   "metadata": {},
   "outputs": [
    {
     "data": {
      "text/plain": [
       "'..'"
      ]
     },
     "execution_count": 29,
     "metadata": {},
     "output_type": "execute_result"
    }
   ],
   "source": [
    "os.pardir"
   ]
  },
  {
   "cell_type": "code",
   "execution_count": 30,
   "id": "98eae306-a77e-4e0e-a5d0-504b447209fe",
   "metadata": {},
   "outputs": [],
   "source": [
    "from mnist import load_mnist"
   ]
  },
  {
   "cell_type": "code",
   "execution_count": 31,
   "id": "9ff7f09f-36c3-41f8-874f-b53b316d9ae0",
   "metadata": {},
   "outputs": [
    {
     "name": "stdout",
     "output_type": "stream",
     "text": [
      "Downloading train-images-idx3-ubyte.gz ... \n",
      "Done\n",
      "Downloading train-labels-idx1-ubyte.gz ... \n",
      "Done\n",
      "Downloading t10k-images-idx3-ubyte.gz ... \n",
      "Done\n",
      "Downloading t10k-labels-idx1-ubyte.gz ... \n",
      "Done\n",
      "Converting train-images-idx3-ubyte.gz to NumPy Array ...\n",
      "Done\n",
      "Converting train-labels-idx1-ubyte.gz to NumPy Array ...\n",
      "Done\n",
      "Converting t10k-images-idx3-ubyte.gz to NumPy Array ...\n",
      "Done\n",
      "Converting t10k-labels-idx1-ubyte.gz to NumPy Array ...\n",
      "Done\n",
      "Creating pickle file ...\n",
      "Done!\n"
     ]
    }
   ],
   "source": [
    "(x_train,t_train),(x_text,t_test)=load_mnist(flatten=True,normalize=False)"
   ]
  },
  {
   "cell_type": "code",
   "execution_count": 32,
   "id": "5470bcc4-79a9-452c-938e-6be481ad28d9",
   "metadata": {},
   "outputs": [
    {
     "data": {
      "text/plain": [
       "(60000, 784)"
      ]
     },
     "execution_count": 32,
     "metadata": {},
     "output_type": "execute_result"
    }
   ],
   "source": [
    "x_train.shape"
   ]
  },
  {
   "cell_type": "code",
   "execution_count": 33,
   "id": "16e982cf-3b51-4739-985b-a4fb20a6a19a",
   "metadata": {},
   "outputs": [
    {
     "data": {
      "text/plain": [
       "28.0"
      ]
     },
     "execution_count": 33,
     "metadata": {},
     "output_type": "execute_result"
    }
   ],
   "source": [
    "np.sqrt(784)"
   ]
  },
  {
   "cell_type": "code",
   "execution_count": 15,
   "id": "c31a5d9a-7562-47fc-b2c4-709afa603e1d",
   "metadata": {},
   "outputs": [],
   "source": [
    "from PIL import Image"
   ]
  },
  {
   "cell_type": "code",
   "execution_count": 35,
   "id": "f06572a2-d858-4a74-9bea-6f9f89743a69",
   "metadata": {},
   "outputs": [],
   "source": [
    "def img_show(img):\n",
    "    pil_img=Image.fromarray(np.uint8(img))\n",
    "    pil_img.show()\n"
   ]
  },
  {
   "cell_type": "code",
   "execution_count": 36,
   "id": "ffdb6d10-290e-47b7-b9db-9f94b8c2677b",
   "metadata": {},
   "outputs": [],
   "source": [
    "img=x_train[0].reshape(28,28)"
   ]
  },
  {
   "cell_type": "code",
   "execution_count": 37,
   "id": "8031fff3-4456-4859-a11a-377cd4fe4762",
   "metadata": {},
   "outputs": [],
   "source": [
    "img_show(img)"
   ]
  },
  {
   "cell_type": "code",
   "execution_count": 38,
   "id": "0dab0ed7-3faa-4904-bac3-323477ec3f5f",
   "metadata": {},
   "outputs": [],
   "source": [
    "pil_img=Image.fromarray(np.uint8(img))"
   ]
  },
  {
   "cell_type": "code",
   "execution_count": 39,
   "id": "e5e23f22-a430-4931-b46b-afbbaa906939",
   "metadata": {},
   "outputs": [
    {
     "data": {
      "image/png": "[encoded data removed]",
      "text/plain": [
       "<PIL.Image.Image image mode=L size=28x28 at 0x12ACAAD5100>"
      ]
     },
     "execution_count": 39,
     "metadata": {},
     "output_type": "execute_result"
    }
   ],
   "source": [
    "pil_img"
   ]
  },
  {
   "cell_type": "code",
   "execution_count": 40,
   "id": "fb934bb1-6d6b-40f7-8c2f-3b1ed805bd96",
   "metadata": {},
   "outputs": [],
   "source": [
    "pil_img.show()"
   ]
  },
  {
   "cell_type": "code",
   "execution_count": 41,
   "id": "dd6618a6-7e1a-4587-9521-5a62e0c4d8cc",
   "metadata": {},
   "outputs": [
    {
     "data": {
      "image/png": "[encoded data removed]",
      "text/plain": [
       "<Figure size 432x288 with 1 Axes>"
      ]
     },
     "metadata": {
      "needs_background": "light"
     },
     "output_type": "display_data"
    }
   ],
   "source": [
    "%matplotlib inline\n",
    "plt.imshow(pil_img)\n",
    "plt.show()"
   ]
  },
  {
   "cell_type": "code",
   "execution_count": 42,
   "id": "3f199063-8156-486b-995f-42ceb725998c",
   "metadata": {},
   "outputs": [
    {
     "data": {
      "image/png": "[encoded data removed]",
      "text/plain": [
       "<PIL.Image.Image image mode=L size=28x28 at 0x12ACAAD5100>"
      ]
     },
     "metadata": {},
     "output_type": "display_data"
    }
   ],
   "source": [
    "display(pil_img)"
   ]
  },
  {
   "cell_type": "markdown",
   "id": "c800b105-0602-4397-844c-573509c6ad73",
   "metadata": {},
   "source": [
    "### numpy实现神经网络"
   ]
  },
  {
   "cell_type": "code",
   "execution_count": 18,
   "id": "6a7bdc8e-8859-4c24-a9ac-572b634aa37c",
   "metadata": {},
   "outputs": [],
   "source": [
    "import  pickle\n",
    "\n",
    "# def get_data():\n",
    "#     (x_train, t_train), (x_test, t_test) = \\\n",
    "#     load_mnist(normalize=True, flatten=True, one_hot_label=False)\n",
    "#     return x_test, t_test"
   ]
  },
  {
   "cell_type": "code",
   "execution_count": 23,
   "id": "f6ec1915-a1b0-421c-a9f0-7b7aacc03593",
   "metadata": {},
   "outputs": [],
   "source": [
    "### 从pickle读取数据\n",
    "import  pickle\n",
    "with  open(r'F:\\DataSet\\MNIST\\mnist.pkl','rb')  as f:\n",
    "    data=pickle.load(f)\n",
    "    "
   ]
  },
  {
   "cell_type": "code",
   "execution_count": 24,
   "id": "2658aad6-f5b1-4b67-9fc8-3bb9ca3fc83f",
   "metadata": {},
   "outputs": [
    {
     "data": {
      "text/plain": [
       "{'train_img': array([[0, 0, 0, ..., 0, 0, 0],\n",
       "        [0, 0, 0, ..., 0, 0, 0],\n",
       "        [0, 0, 0, ..., 0, 0, 0],\n",
       "        ...,\n",
       "        [0, 0, 0, ..., 0, 0, 0],\n",
       "        [0, 0, 0, ..., 0, 0, 0],\n",
       "        [0, 0, 0, ..., 0, 0, 0]], dtype=uint8),\n",
       " 'train_label': array([5, 0, 4, ..., 5, 6, 8], dtype=uint8),\n",
       " 'test_img': array([[0, 0, 0, ..., 0, 0, 0],\n",
       "        [0, 0, 0, ..., 0, 0, 0],\n",
       "        [0, 0, 0, ..., 0, 0, 0],\n",
       "        ...,\n",
       "        [0, 0, 0, ..., 0, 0, 0],\n",
       "        [0, 0, 0, ..., 0, 0, 0],\n",
       "        [0, 0, 0, ..., 0, 0, 0]], dtype=uint8),\n",
       " 'test_label': array([7, 2, 1, ..., 4, 5, 6], dtype=uint8)}"
      ]
     },
     "execution_count": 24,
     "metadata": {},
     "output_type": "execute_result"
    }
   ],
   "source": [
    "data"
   ]
  },
  {
   "cell_type": "code",
   "execution_count": 25,
   "id": "102a95b9-f3bc-4a58-ada8-a57086468018",
   "metadata": {},
   "outputs": [],
   "source": [
    "X_train=data['train_img']\n",
    "y_train=data['train_label']\n",
    "X_test=data['test_img']\n",
    "y_test=data['test_label']"
   ]
  },
  {
   "cell_type": "markdown",
   "id": "bc1663b8-40bb-4bea-97b6-ea55b4dbdc0a",
   "metadata": {},
   "source": [
    "## SVM实现MNIST分类"
   ]
  },
  {
   "cell_type": "code",
   "execution_count": 27,
   "id": "aeec98e6-373f-40ec-9c03-040dc4c2f2cb",
   "metadata": {},
   "outputs": [],
   "source": [
    "from sklearn.svm import SVC"
   ]
  },
  {
   "cell_type": "code",
   "execution_count": 29,
   "id": "63d09894-36f2-4837-a20e-d1dd136f0d31",
   "metadata": {},
   "outputs": [
    {
     "data": {
      "text/plain": [
       "SVC()"
      ]
     },
     "execution_count": 29,
     "metadata": {},
     "output_type": "execute_result"
    }
   ],
   "source": [
    "svc=SVC()\n",
    "svc.fit(X_train,y_train)"
   ]
  },
  {
   "cell_type": "code",
   "execution_count": 30,
   "id": "b9b9b899-d22e-4cd9-a951-427ee67ff03b",
   "metadata": {},
   "outputs": [
    {
     "data": {
      "text/plain": [
       "(60000, 784)"
      ]
     },
     "execution_count": 30,
     "metadata": {},
     "output_type": "execute_result"
    }
   ],
   "source": [
    "X_train.shape"
   ]
  },
  {
   "cell_type": "code",
   "execution_count": 33,
   "id": "b3448707-9ca8-40c7-b470-998ab4fa8dfb",
   "metadata": {},
   "outputs": [],
   "source": [
    "y_pred=svc.predict(X_test)"
   ]
  },
  {
   "cell_type": "code",
   "execution_count": 34,
   "id": "e1a6144b-edb2-4ce0-8d3f-2105be227ae0",
   "metadata": {},
   "outputs": [
    {
     "data": {
      "text/plain": [
       "1643765604.4985843"
      ]
     },
     "execution_count": 34,
     "metadata": {},
     "output_type": "execute_result"
    }
   ],
   "source": [
    "from time import time\n"
   ]
  },
  {
   "cell_type": "code",
   "execution_count": 35,
   "id": "de331ac9-1dd4-4844-b0d5-20ea51394839",
   "metadata": {},
   "outputs": [
    {
     "data": {
      "text/plain": [
       "array([7, 2, 1, ..., 4, 5, 6], dtype=uint8)"
      ]
     },
     "execution_count": 35,
     "metadata": {},
     "output_type": "execute_result"
    }
   ],
   "source": [
    "y_pred"
   ]
  },
  {
   "cell_type": "code",
   "execution_count": 36,
   "id": "27613b20-c0f8-48e7-985c-9beca30d98b8",
   "metadata": {},
   "outputs": [
    {
     "data": {
      "text/plain": [
       "array([7, 2, 1, ..., 4, 5, 6], dtype=uint8)"
      ]
     },
     "execution_count": 36,
     "metadata": {},
     "output_type": "execute_result"
    }
   ],
   "source": [
    "y_test"
   ]
  },
  {
   "cell_type": "code",
   "execution_count": 38,
   "id": "749fae7f-f43d-41fc-a771-89c315dbf981",
   "metadata": {},
   "outputs": [
    {
     "name": "stdout",
     "output_type": "stream",
     "text": [
      "SVM without norm's ACC: 0.9792\n"
     ]
    }
   ],
   "source": [
    "print(\"SVM without norm's ACC:\",(y_test==y_pred).sum()/y_test.shape[0])"
   ]
  },
  {
   "cell_type": "code",
   "execution_count": 42,
   "id": "967e6197-f9b7-4d76-8ae8-15ea7f24465f",
   "metadata": {},
   "outputs": [],
   "source": [
    "## normalize data\n",
    "X_train = X_train.astype(np.float32)\n",
    "X_train /= 255.0\n",
    "X_test = X_test.astype(np.float32)\n",
    "X_test /= 255.0"
   ]
  },
  {
   "cell_type": "code",
   "execution_count": 43,
   "id": "3f94a186-ec72-4aa0-acbb-c8adca58a68f",
   "metadata": {},
   "outputs": [
    {
     "name": "stdout",
     "output_type": "stream",
     "text": [
      "svm train with norm data...\n",
      "take 275.84768295288086 \n"
     ]
    }
   ],
   "source": [
    "# train with norm data\n",
    "print('svm train with norm data...')\n",
    "start=time()\n",
    "svc=SVC()\n",
    "svc.fit(X_train,y_train)\n",
    "print(f'take {time()-start}s ')"
   ]
  },
  {
   "cell_type": "code",
   "execution_count": 44,
   "id": "ea66ba3a-face-4cd1-8e8b-968ba746afc5",
   "metadata": {},
   "outputs": [
    {
     "name": "stdout",
     "output_type": "stream",
     "text": [
      "svm predict with norm data...\n",
      "SVM with normalization's ACC: 0.9792\n",
      "take 0.0s \n"
     ]
    }
   ],
   "source": [
    "print('svm predict with norm data...')\n",
    "start=time()\n",
    "y_pred=svc.predict(X_test)\n",
    "print(\"SVM with normalization's ACC:\",(y_test==y_pred).sum()/y_test.shape[0])\n",
    "print(f'take {time()-start}s ')"
   ]
  },
  {
   "cell_type": "markdown",
   "id": "503885bb-252c-45b9-81ca-3a2f900ca783",
   "metadata": {},
   "source": [
    "### SVC kaggle submission"
   ]
  },
  {
   "cell_type": "code",
   "execution_count": 54,
   "id": "9384a3e2-dad3-4880-bd4f-5f202edfbc5a",
   "metadata": {},
   "outputs": [],
   "source": [
    "import pandas as pd\n",
    "kaggle_train=pd.read_csv(('F:\\DataSet\\MNIST\\kaggle_train.csv'))\n",
    "kaggle_test=pd.read_csv('F:\\DataSet\\MNIST\\kaggle_test.csv')"
   ]
  },
  {
   "cell_type": "code",
   "execution_count": 55,
   "id": "8bcba24b-3962-4eee-9aa9-6ac1f3b81efd",
   "metadata": {},
   "outputs": [
    {
     "data": {
      "text/html": [
       "<div>\n",
       "<style scoped>\n",
       "    .dataframe tbody tr th:only-of-type {\n",
       "        vertical-align: middle;\n",
       "    }\n",
       "\n",
       "    .dataframe tbody tr th {\n",
       "        vertical-align: top;\n",
       "    }\n",
       "\n",
       "    .dataframe thead th {\n",
       "        text-align: right;\n",
       "    }\n",
       "</style>\n",
       "<table border=\"1\" class=\"dataframe\">\n",
       "  <thead>\n",
       "    <tr style=\"text-align: right;\">\n",
       "      <th></th>\n",
       "      <th>label</th>\n",
       "      <th>pixel0</th>\n",
       "      <th>pixel1</th>\n",
       "      <th>pixel2</th>\n",
       "      <th>pixel3</th>\n",
       "      <th>pixel4</th>\n",
       "      <th>pixel5</th>\n",
       "      <th>pixel6</th>\n",
       "      <th>pixel7</th>\n",
       "      <th>pixel8</th>\n",
       "      <th>...</th>\n",
       "      <th>pixel774</th>\n",
       "      <th>pixel775</th>\n",
       "      <th>pixel776</th>\n",
       "      <th>pixel777</th>\n",
       "      <th>pixel778</th>\n",
       "      <th>pixel779</th>\n",
       "      <th>pixel780</th>\n",
       "      <th>pixel781</th>\n",
       "      <th>pixel782</th>\n",
       "      <th>pixel783</th>\n",
       "    </tr>\n",
       "  </thead>\n",
       "  <tbody>\n",
       "    <tr>\n",
       "      <th>0</th>\n",
       "      <td>1</td>\n",
       "      <td>0</td>\n",
       "      <td>0</td>\n",
       "      <td>0</td>\n",
       "      <td>0</td>\n",
       "      <td>0</td>\n",
       "      <td>0</td>\n",
       "      <td>0</td>\n",
       "      <td>0</td>\n",
       "      <td>0</td>\n",
       "      <td>...</td>\n",
       "      <td>0</td>\n",
       "      <td>0</td>\n",
       "      <td>0</td>\n",
       "      <td>0</td>\n",
       "      <td>0</td>\n",
       "      <td>0</td>\n",
       "      <td>0</td>\n",
       "      <td>0</td>\n",
       "      <td>0</td>\n",
       "      <td>0</td>\n",
       "    </tr>\n",
       "    <tr>\n",
       "      <th>1</th>\n",
       "      <td>0</td>\n",
       "      <td>0</td>\n",
       "      <td>0</td>\n",
       "      <td>0</td>\n",
       "      <td>0</td>\n",
       "      <td>0</td>\n",
       "      <td>0</td>\n",
       "      <td>0</td>\n",
       "      <td>0</td>\n",
       "      <td>0</td>\n",
       "      <td>...</td>\n",
       "      <td>0</td>\n",
       "      <td>0</td>\n",
       "      <td>0</td>\n",
       "      <td>0</td>\n",
       "      <td>0</td>\n",
       "      <td>0</td>\n",
       "      <td>0</td>\n",
       "      <td>0</td>\n",
       "      <td>0</td>\n",
       "      <td>0</td>\n",
       "    </tr>\n",
       "    <tr>\n",
       "      <th>2</th>\n",
       "      <td>1</td>\n",
       "      <td>0</td>\n",
       "      <td>0</td>\n",
       "      <td>0</td>\n",
       "      <td>0</td>\n",
       "      <td>0</td>\n",
       "      <td>0</td>\n",
       "      <td>0</td>\n",
       "      <td>0</td>\n",
       "      <td>0</td>\n",
       "      <td>...</td>\n",
       "      <td>0</td>\n",
       "      <td>0</td>\n",
       "      <td>0</td>\n",
       "      <td>0</td>\n",
       "      <td>0</td>\n",
       "      <td>0</td>\n",
       "      <td>0</td>\n",
       "      <td>0</td>\n",
       "      <td>0</td>\n",
       "      <td>0</td>\n",
       "    </tr>\n",
       "    <tr>\n",
       "      <th>3</th>\n",
       "      <td>4</td>\n",
       "      <td>0</td>\n",
       "      <td>0</td>\n",
       "      <td>0</td>\n",
       "      <td>0</td>\n",
       "      <td>0</td>\n",
       "      <td>0</td>\n",
       "      <td>0</td>\n",
       "      <td>0</td>\n",
       "      <td>0</td>\n",
       "      <td>...</td>\n",
       "      <td>0</td>\n",
       "      <td>0</td>\n",
       "      <td>0</td>\n",
       "      <td>0</td>\n",
       "      <td>0</td>\n",
       "      <td>0</td>\n",
       "      <td>0</td>\n",
       "      <td>0</td>\n",
       "      <td>0</td>\n",
       "      <td>0</td>\n",
       "    </tr>\n",
       "    <tr>\n",
       "      <th>4</th>\n",
       "      <td>0</td>\n",
       "      <td>0</td>\n",
       "      <td>0</td>\n",
       "      <td>0</td>\n",
       "      <td>0</td>\n",
       "      <td>0</td>\n",
       "      <td>0</td>\n",
       "      <td>0</td>\n",
       "      <td>0</td>\n",
       "      <td>0</td>\n",
       "      <td>...</td>\n",
       "      <td>0</td>\n",
       "      <td>0</td>\n",
       "      <td>0</td>\n",
       "      <td>0</td>\n",
       "      <td>0</td>\n",
       "      <td>0</td>\n",
       "      <td>0</td>\n",
       "      <td>0</td>\n",
       "      <td>0</td>\n",
       "      <td>0</td>\n",
       "    </tr>\n",
       "  </tbody>\n",
       "</table>\n",
       "<p>5 rows × 785 columns</p>\n",
       "</div>"
      ],
      "text/plain": [
       "   label  pixel0  pixel1  pixel2  pixel3  pixel4  pixel5  pixel6  pixel7  \\\n",
       "0      1       0       0       0       0       0       0       0       0   \n",
       "1      0       0       0       0       0       0       0       0       0   \n",
       "2      1       0       0       0       0       0       0       0       0   \n",
       "3      4       0       0       0       0       0       0       0       0   \n",
       "4      0       0       0       0       0       0       0       0       0   \n",
       "\n",
       "   pixel8  ...  pixel774  pixel775  pixel776  pixel777  pixel778  pixel779  \\\n",
       "0       0  ...         0         0         0         0         0         0   \n",
       "1       0  ...         0         0         0         0         0         0   \n",
       "2       0  ...         0         0         0         0         0         0   \n",
       "3       0  ...         0         0         0         0         0         0   \n",
       "4       0  ...         0         0         0         0         0         0   \n",
       "\n",
       "   pixel780  pixel781  pixel782  pixel783  \n",
       "0         0         0         0         0  \n",
       "1         0         0         0         0  \n",
       "2         0         0         0         0  \n",
       "3         0         0         0         0  \n",
       "4         0         0         0         0  \n",
       "\n",
       "[5 rows x 785 columns]"
      ]
     },
     "execution_count": 55,
     "metadata": {},
     "output_type": "execute_result"
    }
   ],
   "source": [
    "kaggle_train.head()"
   ]
  },
  {
   "cell_type": "code",
   "execution_count": 57,
   "id": "81b2bc79-f4e4-4f2f-b4af-ed96fb61c3f8",
   "metadata": {},
   "outputs": [],
   "source": [
    "X_train=kaggle_train.drop(columns=['label']).to_numpy()\n",
    "y_train=kaggle_train['label'].to_numpy()\n",
    "X_test=kaggle_test.to_numpy()\n",
    "## normalize data\n",
    "X_train = X_train.astype(np.float32)\n",
    "X_train /= 255.0\n",
    "X_test = X_test.astype(np.float32)\n",
    "X_test /= 255.0"
   ]
  },
  {
   "cell_type": "code",
   "execution_count": 58,
   "id": "f72b06aa-a723-4b49-9118-7d382ada0aa6",
   "metadata": {},
   "outputs": [
    {
     "data": {
      "text/plain": [
       "((42000, 784), (28000, 784))"
      ]
     },
     "execution_count": 58,
     "metadata": {},
     "output_type": "execute_result"
    }
   ],
   "source": [
    "X_train.shape,X_test.shape"
   ]
  },
  {
   "cell_type": "code",
   "execution_count": 60,
   "id": "aca70956-718d-46d0-8a39-fffd16cece92",
   "metadata": {},
   "outputs": [
    {
     "name": "stdout",
     "output_type": "stream",
     "text": [
      "svm train with norm data...\n",
      "take 152.62778425216675s \n"
     ]
    }
   ],
   "source": [
    "## kaggle data train with svc\n",
    "# train with norm data\n",
    "print('svm train with norm data...')\n",
    "start=time()\n",
    "svc=SVC()\n",
    "svc.fit(X_train,y_train)\n",
    "print(f'take {time()-start}s ')"
   ]
  },
  {
   "cell_type": "code",
   "execution_count": 61,
   "id": "419b868c-da98-477e-95b1-b9045c02413a",
   "metadata": {},
   "outputs": [
    {
     "name": "stdout",
     "output_type": "stream",
     "text": [
      "svm predict with norm data...\n"
     ]
    },
    {
     "name": "stderr",
     "output_type": "stream",
     "text": [
      "<ipython-input-61-afdc8fab60d4>:4: DeprecationWarning: elementwise comparison failed; this will raise an error in the future.\n",
      "  print(\"SVM with normalization's ACC:\",(y_test==y_pred).sum()/y_test.shape[0])\n"
     ]
    },
    {
     "ename": "AttributeError",
     "evalue": "'bool' object has no attribute 'sum'",
     "output_type": "error",
     "traceback": [
      "\u001b[1;31m---------------------------------------------------------------------------\u001b[0m",
      "\u001b[1;31mAttributeError\u001b[0m                            Traceback (most recent call last)",
      "\u001b[1;32m<ipython-input-61-afdc8fab60d4>\u001b[0m in \u001b[0;36m<module>\u001b[1;34m\u001b[0m\n\u001b[0;32m      2\u001b[0m \u001b[0mstart\u001b[0m\u001b[1;33m=\u001b[0m\u001b[0mtime\u001b[0m\u001b[1;33m(\u001b[0m\u001b[1;33m)\u001b[0m\u001b[1;33m\u001b[0m\u001b[1;33m\u001b[0m\u001b[0m\n\u001b[0;32m      3\u001b[0m \u001b[0my_pred\u001b[0m\u001b[1;33m=\u001b[0m\u001b[0msvc\u001b[0m\u001b[1;33m.\u001b[0m\u001b[0mpredict\u001b[0m\u001b[1;33m(\u001b[0m\u001b[0mX_test\u001b[0m\u001b[1;33m)\u001b[0m\u001b[1;33m\u001b[0m\u001b[1;33m\u001b[0m\u001b[0m\n\u001b[1;32m----> 4\u001b[1;33m \u001b[0mprint\u001b[0m\u001b[1;33m(\u001b[0m\u001b[1;34m\"SVM with normalization's ACC:\"\u001b[0m\u001b[1;33m,\u001b[0m\u001b[1;33m(\u001b[0m\u001b[0my_test\u001b[0m\u001b[1;33m==\u001b[0m\u001b[0my_pred\u001b[0m\u001b[1;33m)\u001b[0m\u001b[1;33m.\u001b[0m\u001b[0msum\u001b[0m\u001b[1;33m(\u001b[0m\u001b[1;33m)\u001b[0m\u001b[1;33m/\u001b[0m\u001b[0my_test\u001b[0m\u001b[1;33m.\u001b[0m\u001b[0mshape\u001b[0m\u001b[1;33m[\u001b[0m\u001b[1;36m0\u001b[0m\u001b[1;33m]\u001b[0m\u001b[1;33m)\u001b[0m\u001b[1;33m\u001b[0m\u001b[1;33m\u001b[0m\u001b[0m\n\u001b[0m\u001b[0;32m      5\u001b[0m \u001b[0mprint\u001b[0m\u001b[1;33m(\u001b[0m\u001b[1;34mf'take {time()-start}s '\u001b[0m\u001b[1;33m)\u001b[0m\u001b[1;33m\u001b[0m\u001b[1;33m\u001b[0m\u001b[0m\n",
      "\u001b[1;31mAttributeError\u001b[0m: 'bool' object has no attribute 'sum'"
     ]
    }
   ],
   "source": [
    "print('svm predict with norm data...')\n",
    "start=time()\n",
    "y_pred=svc.predict(X_test)\n",
    "print(\"SVM with normalization's ACC:\",(y_test==y_pred).sum()/y_test.shape[0])\n",
    "print(f'take {time()-start}s ')"
   ]
  },
  {
   "cell_type": "code",
   "execution_count": 62,
   "id": "48cdafa4-cd55-4ff8-9cf8-5ce2d42ecf1a",
   "metadata": {},
   "outputs": [
    {
     "data": {
      "text/plain": [
       "array([2, 0, 9, ..., 3, 9, 2], dtype=int64)"
      ]
     },
     "execution_count": 62,
     "metadata": {},
     "output_type": "execute_result"
    }
   ],
   "source": [
    "y_pred"
   ]
  },
  {
   "cell_type": "code",
   "execution_count": 63,
   "id": "694705f5-4123-49e4-aa0e-519d8b3a9678",
   "metadata": {},
   "outputs": [
    {
     "data": {
      "text/plain": [
       "array([7, 2, 1, ..., 4, 5, 6], dtype=uint8)"
      ]
     },
     "execution_count": 63,
     "metadata": {},
     "output_type": "execute_result"
    }
   ],
   "source": [
    "y_test"
   ]
  },
  {
   "cell_type": "code",
   "execution_count": 67,
   "id": "41c6203c-561c-453f-b0a3-fbd1aaaf9908",
   "metadata": {},
   "outputs": [
    {
     "data": {
      "text/plain": [
       "(10000,)"
      ]
     },
     "execution_count": 67,
     "metadata": {},
     "output_type": "execute_result"
    }
   ],
   "source": [
    "y_test.shape"
   ]
  },
  {
   "cell_type": "code",
   "execution_count": 68,
   "id": "c05be76f-e935-412e-a14d-61666cec7a9b",
   "metadata": {},
   "outputs": [
    {
     "data": {
      "text/plain": [
       "(28000,)"
      ]
     },
     "execution_count": 68,
     "metadata": {},
     "output_type": "execute_result"
    }
   ],
   "source": [
    "y_pred.shape"
   ]
  },
  {
   "cell_type": "code",
   "execution_count": 70,
   "id": "c2206fe6-70f1-4d76-a7bd-85c64cb16f71",
   "metadata": {},
   "outputs": [],
   "source": [
    "output = pd.DataFrame( data={\"ImageId\":range(28000), \"Label\":y_pred} )"
   ]
  },
  {
   "cell_type": "code",
   "execution_count": 74,
   "id": "1c11b882-ffc7-4692-acc9-26f09a08dc22",
   "metadata": {},
   "outputs": [],
   "source": [
    "output['ImageId']+=1"
   ]
  },
  {
   "cell_type": "code",
   "execution_count": 75,
   "id": "3be10543-1f46-4b52-9aa8-3893de99639a",
   "metadata": {},
   "outputs": [
    {
     "data": {
      "text/html": [
       "<div>\n",
       "<style scoped>\n",
       "    .dataframe tbody tr th:only-of-type {\n",
       "        vertical-align: middle;\n",
       "    }\n",
       "\n",
       "    .dataframe tbody tr th {\n",
       "        vertical-align: top;\n",
       "    }\n",
       "\n",
       "    .dataframe thead th {\n",
       "        text-align: right;\n",
       "    }\n",
       "</style>\n",
       "<table border=\"1\" class=\"dataframe\">\n",
       "  <thead>\n",
       "    <tr style=\"text-align: right;\">\n",
       "      <th></th>\n",
       "      <th>ImageId</th>\n",
       "      <th>Label</th>\n",
       "    </tr>\n",
       "  </thead>\n",
       "  <tbody>\n",
       "    <tr>\n",
       "      <th>0</th>\n",
       "      <td>1</td>\n",
       "      <td>2</td>\n",
       "    </tr>\n",
       "    <tr>\n",
       "      <th>1</th>\n",
       "      <td>2</td>\n",
       "      <td>0</td>\n",
       "    </tr>\n",
       "    <tr>\n",
       "      <th>2</th>\n",
       "      <td>3</td>\n",
       "      <td>9</td>\n",
       "    </tr>\n",
       "    <tr>\n",
       "      <th>3</th>\n",
       "      <td>4</td>\n",
       "      <td>9</td>\n",
       "    </tr>\n",
       "    <tr>\n",
       "      <th>4</th>\n",
       "      <td>5</td>\n",
       "      <td>3</td>\n",
       "    </tr>\n",
       "  </tbody>\n",
       "</table>\n",
       "</div>"
      ],
      "text/plain": [
       "   ImageId  Label\n",
       "0        1      2\n",
       "1        2      0\n",
       "2        3      9\n",
       "3        4      9\n",
       "4        5      3"
      ]
     },
     "execution_count": 75,
     "metadata": {},
     "output_type": "execute_result"
    }
   ],
   "source": [
    "output.head()"
   ]
  },
  {
   "cell_type": "code",
   "execution_count": 76,
   "id": "4c58727e-7125-470a-9aa0-f52d52423ea4",
   "metadata": {},
   "outputs": [],
   "source": [
    "output.to_csv( \"F:\\DataSet\\MNIST\\SVM_MNIST_Kaggle.csv\", index=False)"
   ]
  },
  {
   "cell_type": "code",
   "execution_count": 77,
   "id": "3ff41641-7626-462d-b40d-5819ff0b07d5",
   "metadata": {},
   "outputs": [
    {
     "ename": "ModuleNotFoundError",
     "evalue": "No module named 'lightgbm'",
     "output_type": "error",
     "traceback": [
      "\u001b[1;31m---------------------------------------------------------------------------\u001b[0m",
      "\u001b[1;31mModuleNotFoundError\u001b[0m                       Traceback (most recent call last)",
      "\u001b[1;32m<ipython-input-77-b18b3f8a6dc8>\u001b[0m in \u001b[0;36m<module>\u001b[1;34m\u001b[0m\n\u001b[1;32m----> 1\u001b[1;33m \u001b[1;32mimport\u001b[0m \u001b[0mlightgbm\u001b[0m\u001b[1;33m\u001b[0m\u001b[1;33m\u001b[0m\u001b[0m\n\u001b[0m",
      "\u001b[1;31mModuleNotFoundError\u001b[0m: No module named 'lightgbm'"
     ]
    }
   ],
   "source": [
    "import lightgbm"
   ]
  },
  {
   "cell_type": "markdown",
   "id": "5401848c-af5d-4137-851b-13ac149e728c",
   "metadata": {},
   "source": [
    "### 手撸numpy 神经网络-测试"
   ]
  },
  {
   "cell_type": "code",
   "execution_count": 78,
   "id": "a7ce3ee9-f6f6-488b-90e2-7e772a4298ca",
   "metadata": {},
   "outputs": [
    {
     "data": {
      "text/plain": [
       "array([[-0.15522096, -0.46375294, -0.43034808, -0.29098085, -0.56740327,\n",
       "         1.50177098,  0.64364485,  0.21802657, -0.66635088,  1.1746729 ,\n",
       "        -0.05642802,  1.00084914,  0.87137102,  0.97771801,  0.75959363,\n",
       "        -0.7391049 , -1.60645925,  0.12712649,  0.49437232,  0.35469244,\n",
       "         2.2211956 ,  0.08953355, -0.2893752 , -0.96677102, -1.00596882,\n",
       "         0.413424  ,  0.5304306 ,  2.16021032,  0.24008804,  0.80814324,\n",
       "        -0.24058597, -1.56139451, -0.75787738,  0.45823305, -1.25822012,\n",
       "        -0.44141202, -0.43201012, -0.49067648,  0.50497123, -0.05918923,\n",
       "         0.08029081,  0.89614637,  0.44987162, -1.14241807,  0.556473  ,\n",
       "         0.21306885,  0.01568973, -0.8729364 , -0.45315466, -1.58561913]])"
      ]
     },
     "execution_count": 78,
     "metadata": {},
     "output_type": "execute_result"
    }
   ],
   "source": [
    "np.random.randn(1,50)"
   ]
  },
  {
   "cell_type": "code",
   "execution_count": 115,
   "id": "535b0297-19a3-41c8-9a7a-0cb60adea934",
   "metadata": {},
   "outputs": [],
   "source": [
    "import pandas as pd\n",
    "import numpy as np\n",
    "'''\n",
    "Feedforward neural network with numpy\n",
    "用numpy手撸神经网络\n",
    "'''\n",
    "\n",
    "class NeuralNet():\n",
    "    \n",
    "    @staticmethod\n",
    "    def sigmoid(x):\n",
    "        return 1/(1+np.exp(-x))\n",
    "\n",
    "    @staticmethod\n",
    "    def softmax(x):\n",
    "        return np.exp(x)/np.sum(np.exp(x))\n",
    "\n",
    "    def __init__(self) -> None:\n",
    "        \n",
    "        ## init中一般初始化参数\n",
    "        self.labels = None\n",
    "        \n",
    "        # 输入层784，第一层50 第二层100，输出层10\n",
    "        # 更robust的方法是将层数作为参数传进来\n",
    "        # 作为演示，直接硬编码\n",
    "        #初始化参数\n",
    "        self.parameters = {            \n",
    "            \"W1\":np.random.randn(784,50),\n",
    "            \"b1\":np.random.randn(1,50),\n",
    "            \"W2\":np.random.randn(50,100),\n",
    "            \"b2\":np.random.randn(1,100),\n",
    "            \"W3\":np.random.randn(100,10),\n",
    "            \"b3\":np.random.randn(1,10),\n",
    "        }\n",
    "    \n",
    "    def feedforward(self,X):\n",
    "        P = self.parameters\n",
    "        \n",
    "        a1=np.dot(X,P['W1'])+P['b1']\n",
    "        Z1=self.sigmoid(a1)\n",
    "        a2=np.dot(Z1,P['W2'])+P['b2']\n",
    "        Z2=self.sigmoid(a2)\n",
    "        a3=np.dot(Z2,P['W3'])+P['b3']\n",
    "        y=self.softmax(a3)        \n",
    "        return np.argmax(y,axis=1)\n"
   ]
  },
  {
   "cell_type": "code",
   "execution_count": 86,
   "id": "c10b246d-5d66-4a2e-9705-2cad9106bb69",
   "metadata": {},
   "outputs": [],
   "source": [
    "tmp=X_train[0].reshape(1,784)"
   ]
  },
  {
   "cell_type": "code",
   "execution_count": 116,
   "id": "7162047b-ba42-4d59-a059-29eabc116a05",
   "metadata": {},
   "outputs": [],
   "source": [
    "nn=NeuralNet()"
   ]
  },
  {
   "cell_type": "code",
   "execution_count": 107,
   "id": "ae5b0891-eaff-40cd-be12-e94fd8da9adf",
   "metadata": {},
   "outputs": [
    {
     "data": {
      "text/plain": [
       "(1, 10)"
      ]
     },
     "execution_count": 107,
     "metadata": {},
     "output_type": "execute_result"
    }
   ],
   "source": [
    "nn.parameters['b3'].shape"
   ]
  },
  {
   "cell_type": "code",
   "execution_count": 117,
   "id": "989849eb-09ee-4106-aaed-2649e4024802",
   "metadata": {},
   "outputs": [
    {
     "name": "stdout",
     "output_type": "stream",
     "text": [
      "(42000, 10)\n"
     ]
    }
   ],
   "source": [
    "y_pred=nn.feedforward(X_train)"
   ]
  },
  {
   "cell_type": "code",
   "execution_count": 113,
   "id": "461b03c8-93b0-44cb-b814-b1bcf4e90228",
   "metadata": {},
   "outputs": [
    {
     "data": {
      "text/plain": [
       "array([9, 9, 9, 0, 8, 9, 9, 0, 2, 9, 9, 0, 0, 0, 4, 0, 9, 9, 9, 2, 0, 0,\n",
       "       9, 9, 9, 2, 2, 4, 9, 9, 9, 9, 2, 0, 2, 9, 9, 0, 0, 0, 2, 3, 0, 0,\n",
       "       9, 0, 2, 9, 0, 2, 9, 0, 9, 9, 0, 9, 2, 9, 0, 0, 2, 0, 9, 1, 9, 2,\n",
       "       0, 0, 0, 9, 2, 0, 9, 9, 0, 9, 9, 0, 9, 0, 0, 0, 2, 2, 9, 9, 9, 0,\n",
       "       2, 0, 2, 9, 9, 9, 0, 0, 0, 0, 0, 2], dtype=int64)"
      ]
     },
     "execution_count": 113,
     "metadata": {},
     "output_type": "execute_result"
    }
   ],
   "source": [
    "y_pred[:100]"
   ]
  },
  {
   "cell_type": "code",
   "execution_count": 118,
   "id": "162ae19f-37f5-48d3-9a02-cc25af5bc5d3",
   "metadata": {},
   "outputs": [
    {
     "data": {
      "text/plain": [
       "(42000,)"
      ]
     },
     "execution_count": 118,
     "metadata": {},
     "output_type": "execute_result"
    }
   ],
   "source": [
    "y_pred.shape"
   ]
  },
  {
   "cell_type": "code",
   "execution_count": null,
   "id": "8b0755ea-59d4-40e6-a8be-ac3bf9305c9f",
   "metadata": {},
   "outputs": [],
   "source": []
  }
 ],
 "metadata": {
  "kernelspec": {
   "display_name": "Python 3",
   "language": "python",
   "name": "python3"
  },
  "language_info": {
   "codemirror_mode": {
    "name": "ipython",
    "version": 3
   },
   "file_extension": ".py",
   "mimetype": "text/x-python",
   "name": "python",
   "nbconvert_exporter": "python",
   "pygments_lexer": "ipython3",
   "version": "3.8.8"
  }
 },
 "nbformat": 4,
 "nbformat_minor": 5
}
