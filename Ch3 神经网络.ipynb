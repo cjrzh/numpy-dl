{
 "cells": [
  {
   "cell_type": "markdown",
   "id": "b9488316-b2cc-4428-b087-c6b4859e4074",
   "metadata": {},
   "source": [
    "# CH3 神经网络\n",
    "## 阶跃函数"
   ]
  },
  {
   "cell_type": "code",
   "execution_count": 2,
   "id": "b73fc20a-8a00-499f-8eb4-a5e6eae01e01",
   "metadata": {},
   "outputs": [],
   "source": [
    "import numpy as np"
   ]
  },
  {
   "cell_type": "code",
   "execution_count": 3,
   "id": "5c454b19-db69-452e-ae98-e61e6629b223",
   "metadata": {},
   "outputs": [],
   "source": [
    "def step_function(x):\n",
    "    y=x>0\n",
    "    return y.astype(np.int8)"
   ]
  },
  {
   "cell_type": "code",
   "execution_count": 4,
   "id": "b2161e31-6bd5-46b0-9be5-4cc4edd95218",
   "metadata": {},
   "outputs": [],
   "source": [
    "x=np.array([1,3,-1])"
   ]
  },
  {
   "cell_type": "code",
   "execution_count": 5,
   "id": "43249a83-8844-43ff-a483-c802857c6658",
   "metadata": {},
   "outputs": [
    {
     "data": {
      "text/plain": [
       "array([1, 1, 0], dtype=int8)"
      ]
     },
     "execution_count": 5,
     "metadata": {},
     "output_type": "execute_result"
    }
   ],
   "source": [
    "step_function(x)"
   ]
  },
  {
   "cell_type": "markdown",
   "id": "1f90d823-98a1-4185-8787-825094e9a8db",
   "metadata": {},
   "source": [
    "## 阶跃函数的图形"
   ]
  },
  {
   "cell_type": "code",
   "execution_count": 6,
   "id": "7a8fe5ad-e7ee-4db2-9df2-14ed2874df30",
   "metadata": {},
   "outputs": [],
   "source": [
    "import matplotlib.pylab as plt"
   ]
  },
  {
   "cell_type": "code",
   "execution_count": 7,
   "id": "dd7c9446-5c55-4ce0-84d5-8483e63db172",
   "metadata": {},
   "outputs": [],
   "source": [
    "x=np.arange(-5,5,0.1)"
   ]
  },
  {
   "cell_type": "code",
   "execution_count": 8,
   "id": "d5455ed7-3173-419d-8d07-3e73c4e407ba",
   "metadata": {},
   "outputs": [],
   "source": [
    "y=step_function(x)"
   ]
  },
  {
   "cell_type": "code",
   "execution_count": 9,
   "id": "9b2c2d62-f151-4bcb-bb9b-84b3a0017d61",
   "metadata": {},
   "outputs": [
    {
     "data": {
      "image/png": "[encoded data removed]",
      "text/plain": [
       "<Figure size 432x288 with 1 Axes>"
      ]
     },
     "metadata": {
      "needs_background": "light"
     },
     "output_type": "display_data"
    }
   ],
   "source": [
    "plt.plot(x,y)\n",
    "plt.ylim(-0.1,1.1)\n",
    "plt.show()"
   ]
  },
  {
   "cell_type": "markdown",
   "id": "0ae606c0-2537-4188-9214-947629b08beb",
   "metadata": {},
   "source": [
    "## sigmoid 函数"
   ]
  },
  {
   "cell_type": "code",
   "execution_count": 10,
   "id": "4d105f06-c778-4a13-b19b-0d9ae7c0461c",
   "metadata": {},
   "outputs": [],
   "source": [
    "def sigmoid(x):\n",
    "    return 1/(1+np.exp(-x))"
   ]
  },
  {
   "cell_type": "code",
   "execution_count": 11,
   "id": "db112076-fd7d-4aae-a85f-07469f69f40f",
   "metadata": {},
   "outputs": [
    {
     "data": {
      "text/plain": [
       "[<matplotlib.lines.Line2D at 0x7fe6ebf239a0>]"
      ]
     },
     "execution_count": 11,
     "metadata": {},
     "output_type": "execute_result"
    },
    {
     "data": {
      "image/png": "[encoded data removed]",
      "text/plain": [
       "<Figure size 432x288 with 1 Axes>"
      ]
     },
     "metadata": {
      "needs_background": "light"
     },
     "output_type": "display_data"
    }
   ],
   "source": [
    "y=sigmoid(x)\n",
    "plt.plot(x,y)"
   ]
  },
  {
   "cell_type": "code",
   "execution_count": 12,
   "id": "438fa086-ca00-4eea-909b-08c32564dfce",
   "metadata": {},
   "outputs": [],
   "source": [
    "def relu(x):\n",
    "    return np.maximum(0,x)"
   ]
  },
  {
   "cell_type": "code",
   "execution_count": 13,
   "id": "a7be1ec6-15b8-4fed-95ee-ccc279f40680",
   "metadata": {},
   "outputs": [
    {
     "data": {
      "text/plain": [
       "[<matplotlib.lines.Line2D at 0x7fe6ebf0cfd0>]"
      ]
     },
     "execution_count": 13,
     "metadata": {},
     "output_type": "execute_result"
    },
    {
     "data": {
      "image/png": "[encoded data removed]",
      "text/plain": [
       "<Figure size 432x288 with 1 Axes>"
      ]
     },
     "metadata": {
      "needs_background": "light"
     },
     "output_type": "display_data"
    }
   ],
   "source": [
    "y=relu(x)\n",
    "plt.plot(x,y)"
   ]
  },
  {
   "cell_type": "code",
   "execution_count": 17,
   "id": "96dd505a-43e9-4e5c-a9ab-c4a01b255567",
   "metadata": {},
   "outputs": [
    {
     "data": {
      "text/plain": [
       "(4, 1)"
      ]
     },
     "execution_count": 17,
     "metadata": {},
     "output_type": "execute_result"
    }
   ],
   "source": [
    "np.array([[1,2,3,4]]).T.shape"
   ]
  },
  {
   "cell_type": "code",
   "execution_count": 19,
   "id": "468afe8f-8483-4829-b8ed-62e4b97b0684",
   "metadata": {},
   "outputs": [
    {
     "name": "stdout",
     "output_type": "stream",
     "text": [
      "(2, 3)\n",
      "(2,)\n",
      "(3,)\n"
     ]
    }
   ],
   "source": [
    "X = np.array([1.0, 0.5])\n",
    "W1 = np.array([[0.1, 0.3, 0.5], [0.2, 0.4, 0.6]])\n",
    "B1 = np.array([0.1, 0.2, 0.3])\n",
    "print(W1.shape) # (2, 3)\n",
    "print(X.shape) # (2,)\n",
    "print(B1.shape) # (3,)"
   ]
  },
  {
   "cell_type": "code",
   "execution_count": 22,
   "id": "bc8875f4-a6af-4937-a11a-480dc0955212",
   "metadata": {},
   "outputs": [],
   "source": []
  },
  {
   "cell_type": "code",
   "execution_count": 23,
   "id": "fa7f3f45-9f44-4bf0-a4f5-165d53c968e0",
   "metadata": {},
   "outputs": [
    {
     "data": {
      "text/plain": [
       "array([0.3, 0.7, 1.1])"
      ]
     },
     "execution_count": 23,
     "metadata": {},
     "output_type": "execute_result"
    }
   ],
   "source": [
    "A"
   ]
  },
  {
   "cell_type": "code",
   "execution_count": 24,
   "id": "6493fe16-f3a8-48ab-98fd-777233d554b0",
   "metadata": {},
   "outputs": [],
   "source": [
    "A1=X.dot(W1)+B1\n",
    "Z1=sigmoid(A1)"
   ]
  },
  {
   "cell_type": "code",
   "execution_count": 25,
   "id": "e191ce3b-5842-43f6-9cb6-b5c586c44b78",
   "metadata": {},
   "outputs": [
    {
     "data": {
      "text/plain": [
       "array([0.57444252, 0.66818777, 0.75026011])"
      ]
     },
     "execution_count": 25,
     "metadata": {},
     "output_type": "execute_result"
    }
   ],
   "source": [
    "Z1"
   ]
  },
  {
   "cell_type": "code",
   "execution_count": 26,
   "id": "dddb9079-21db-43cc-ad3e-0583c6af62ee",
   "metadata": {},
   "outputs": [
    {
     "name": "stdout",
     "output_type": "stream",
     "text": [
      "(3,)\n",
      "(3, 2)\n",
      "(2,)\n"
     ]
    }
   ],
   "source": [
    "W2 = np.array([[0.1, 0.4], [0.2, 0.5], [0.3, 0.6]])\n",
    "B2 = np.array([0.1, 0.2])\n",
    "print(Z1.shape) # (3,)\n",
    "print(W2.shape) # (3, 2)\n",
    "print(B2.shape) # (2,)"
   ]
  },
  {
   "cell_type": "code",
   "execution_count": null,
   "id": "5c340189-c2a4-4f23-8b62-509a91db9602",
   "metadata": {},
   "outputs": [],
   "source": []
  }
 ],
 "metadata": {
  "kernelspec": {
   "display_name": "Python 3 (ipykernel)",
   "language": "python",
   "name": "python3"
  },
  "language_info": {
   "codemirror_mode": {
    "name": "ipython",
    "version": 3
   },
   "file_extension": ".py",
   "mimetype": "text/x-python",
   "name": "python",
   "nbconvert_exporter": "python",
   "pygments_lexer": "ipython3",
   "version": "3.9.7"
  }
 },
 "nbformat": 4,
 "nbformat_minor": 5
}
