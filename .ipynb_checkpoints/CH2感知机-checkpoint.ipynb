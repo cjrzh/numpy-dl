{
 "cells": [
  {
   "cell_type": "markdown",
   "id": "5bf4bbfe-db66-49a3-b022-2572fcde1a94",
   "metadata": {},
   "source": [
    "## 感知机\n",
    "### 纯手写"
   ]
  },
  {
   "cell_type": "code",
   "execution_count": 4,
   "id": "ea2033c3-a7d5-4b89-b10e-72173938c026",
   "metadata": {},
   "outputs": [],
   "source": [
    "def AND(x1,x2):\n",
    "    w1,w2,theta = 0.5,0.5,0.7\n",
    "    return int(w1*x1+w2*x2>theta)"
   ]
  },
  {
   "cell_type": "code",
   "execution_count": 9,
   "id": "546d5abb-a738-48a3-9c83-754e75073937",
   "metadata": {},
   "outputs": [
    {
     "data": {
      "text/plain": [
       "(1, 0, 0, 0)"
      ]
     },
     "execution_count": 9,
     "metadata": {},
     "output_type": "execute_result"
    }
   ],
   "source": [
    "AND(1,1),AND(1,0),AND(0,1),AND(0,0)"
   ]
  },
  {
   "cell_type": "markdown",
   "id": "d449ca7c-29fa-4527-8bd7-44face40a5dd",
   "metadata": {},
   "source": [
    "### 使用偏置表示$\\theta$,使用numpy实现"
   ]
  },
  {
   "cell_type": "code",
   "execution_count": 33,
   "id": "2ce3dc64-5899-4fd4-8fcf-848bdb8fc5fc",
   "metadata": {},
   "outputs": [],
   "source": [
    "import numpy as np\n",
    "def AND(x1,x2):\n",
    "    x=np.array([x1,x2])\n",
    "    w=np.array([0.5,0.5])\n",
    "    b=-0.7    \n",
    "    return (w.dot(x)+b>0)"
   ]
  },
  {
   "cell_type": "code",
   "execution_count": 34,
   "id": "ff55372d-dd3b-4b48-a825-8dfc4a55d000",
   "metadata": {},
   "outputs": [
    {
     "data": {
      "text/plain": [
       "(True, False, False, False)"
      ]
     },
     "execution_count": 34,
     "metadata": {},
     "output_type": "execute_result"
    }
   ],
   "source": [
    "AND(1,1),AND(1,0),AND(0,1),AND(0,0)"
   ]
  },
  {
   "cell_type": "code",
   "execution_count": 35,
   "id": "dadde488-e981-4007-a692-7cf5166149fe",
   "metadata": {},
   "outputs": [],
   "source": [
    "### 与非门\n",
    "def NAND(x1,x2):\n",
    "    x=np.array([x1,x2])\n",
    "    w=np.array([-0.5,-0.5])\n",
    "    b=0.7\n",
    "    return (w.dot(x)+b>0)"
   ]
  },
  {
   "cell_type": "code",
   "execution_count": 36,
   "id": "12713604-4790-4494-95e8-ed5f1974b4b6",
   "metadata": {},
   "outputs": [
    {
     "data": {
      "text/plain": [
       "(False, True, True, True)"
      ]
     },
     "execution_count": 36,
     "metadata": {},
     "output_type": "execute_result"
    }
   ],
   "source": [
    "NAND(1,1),NAND(1,0),NAND(0,1),NAND(0,0)"
   ]
  },
  {
   "cell_type": "code",
   "execution_count": 37,
   "id": "bbc62d1b-1a2c-47b6-810d-5256569e6d74",
   "metadata": {},
   "outputs": [],
   "source": [
    "### 或门\n",
    "def OR(x1,x2):\n",
    "    x=np.array([x1,x2])\n",
    "    w=np.array([0.5,0.5])\n",
    "    b=-0.3\n",
    "    return (w.dot(x)+b>0)"
   ]
  },
  {
   "cell_type": "code",
   "execution_count": 38,
   "id": "75863c16-5855-4fb5-9cf9-38ebbf48806a",
   "metadata": {},
   "outputs": [
    {
     "data": {
      "text/plain": [
       "(True, True, True, False)"
      ]
     },
     "execution_count": 38,
     "metadata": {},
     "output_type": "execute_result"
    }
   ],
   "source": [
    "OR(1,1),OR(1,0),OR(0,1),OR(0,0)"
   ]
  },
  {
   "cell_type": "code",
   "execution_count": 39,
   "id": "b20f353b-9e02-488f-96f4-4ffd7be8108b",
   "metadata": {},
   "outputs": [],
   "source": [
    "# 异或门\n",
    "def XOR(x1,x2):\n",
    "    h1=NAND(x1,x2)\n",
    "    h2=OR(x1,x2)\n",
    "    return AND(h1,h2)"
   ]
  },
  {
   "cell_type": "code",
   "execution_count": 40,
   "id": "aee09066-c752-463e-a53f-da2076cdd999",
   "metadata": {},
   "outputs": [
    {
     "data": {
      "text/plain": [
       "(False, True, True, False)"
      ]
     },
     "execution_count": 40,
     "metadata": {},
     "output_type": "execute_result"
    }
   ],
   "source": [
    "XOR(1,1),XOR(1,0),XOR(0,1),XOR(0,0)"
   ]
  },
  {
   "cell_type": "code",
   "execution_count": null,
   "id": "f1b47bba-ea47-40d4-8c85-bc0b2ec8d5da",
   "metadata": {},
   "outputs": [],
   "source": []
  }
 ],
 "metadata": {
  "kernelspec": {
   "display_name": "Python 3 (ipykernel)",
   "language": "python",
   "name": "python3"
  },
  "language_info": {
   "codemirror_mode": {
    "name": "ipython",
    "version": 3
   },
   "file_extension": ".py",
   "mimetype": "text/x-python",
   "name": "python",
   "nbconvert_exporter": "python",
   "pygments_lexer": "ipython3",
   "version": "3.9.7"
  }
 },
 "nbformat": 4,
 "nbformat_minor": 5
}
